{
 "cells": [
  {
   "cell_type": "code",
   "execution_count": null,
   "metadata": {},
   "outputs": [],
   "source": [
    "# load dataset\n",
    "import pandas as pd\n",
    "data1 = pd.read_csv('total_dataset.csv')"
   ]
  },
  {
   "cell_type": "code",
   "execution_count": null,
   "metadata": {},
   "outputs": [],
   "source": [
    "total = ['illness_dist_0', 'illness_dist_1', 'illness_dist_2',\n",
    "       'illness_dist_3', 'illness_dist_4', 'illness_dist_5', 'illness_dist_6',\n",
    "       'illness_dist_7', 'illness_dist_8', 'illness_dist_9', 'non_mh_dist_0',\n",
    "       'non_mh_dist_1', 'non_mh_dist_2', 'non_mh_dist_3', 'non_mh_dist_4',\n",
    "       'non_mh_dist_5', 'non_mh_dist_6', 'non_mh_dist_7', 'non_mh_dist_8',\n",
    "       'non_mh_dist_9', 'WC', 'Sixltr', 'anger', 'anticipation',\n",
    "       'disgust', 'fear', 'joy', 'negative', 'positive', 'sadness', 'surprise',\n",
    "       'trust', 'i', 'we', 'you', 'shehe', 'they', 'ipron', 'ppron',\n",
    "       'focuspast', 'focuspresent', 'focusfuture']"
   ]
  },
  {
   "cell_type": "code",
   "execution_count": null,
   "metadata": {},
   "outputs": [],
   "source": [
    "# split datset\n",
    "from sklearn.model_selection import train_test_split\n",
    "train1, test1 = train_test_split(data1, test_size=0.2, shuffle=True,  random_state=34)\n",
    "train2, test2 = train_test_split(data2, test_size=0.2, shuffle=True,  random_state=34)\n",
    "train3, test3 = train_test_split(data3, test_size=0.2, shuffle=True,  random_state=34)"
   ]
  },
  {
   "cell_type": "code",
   "execution_count": null,
   "metadata": {},
   "outputs": [],
   "source": [
    "def xysplit(data, col):\n",
    "    return data[col], data.label"
   ]
  },
  {
   "cell_type": "code",
   "execution_count": null,
   "metadata": {},
   "outputs": [],
   "source": [
    "from sklearn.metrics import accuracy_score, recall_score, precision_score, f1_score\n",
    "from sklearn.model_selection import GridSearchCV\n",
    "\n",
    "def gridsearch(model, parameters, train, test):\n",
    "    X_train, y_train = xysplit(train, total)\n",
    "    X_test, y_test = xysplit(test, total)\n",
    "    model = GridSearchCV(estimator=model, param_grid = parameters, cv = 10)\n",
    "    model.fit(X_train, y_train)\n",
    "    \n",
    "    print(model.best_params_)\n",
    "    model = model.best_estimator_\n",
    "    \n",
    "    y_pred = model.predict(X_test)\n",
    "    print(\"acc: \",  accuracy_score(y_test, y_pred))\t# 0.3\n",
    "    print(\"recall: \", recall_score(y_test, y_pred))\t# 0.42\n",
    "    print(\"precision: \", precision_score(y_test, y_pred))\t# 0.5\n",
    "    print(\"f1: \", f1_score(y_test, y_pred))\t# 0.46\n",
    "    \n",
    "    \n",
    "    return model"
   ]
  },
  {
   "cell_type": "code",
   "execution_count": null,
   "metadata": {},
   "outputs": [],
   "source": [
    "import numpy as np"
   ]
  },
  {
   "cell_type": "code",
   "execution_count": null,
   "metadata": {},
   "outputs": [],
   "source": [
    "# svm\n",
    "import sklearn.svm as svm\n",
    "parameters = { 'C' : [ 0.1, 0.5, 1, 10, 100, 1000 ] , 'kernel': ['rbf']}\n",
    "svm = gridsearch(svm.SVC(), parameters, train2, test2)"
   ]
  },
  {
   "cell_type": "code",
   "execution_count": null,
   "metadata": {},
   "outputs": [],
   "source": [
    "# rf\n",
    "from sklearn.ensemble import RandomForestClassifier\n",
    "param_rf = { \"criterion\" : [\"gini\", \"entropy\"], \"min_samples_leaf\" : [1, 5, 10], 'max_depth': [3, 5, 7, 9, 11, 13, 15], \"min_samples_split\" : [2, 4, 10, 12, 16], \"n_estimators\": [50, 100, 300]}\n",
    "rf = gridsearch(RandomForestClassifier(), param_rf, train2, test2)"
   ]
  },
  {
   "cell_type": "code",
   "execution_count": null,
   "metadata": {},
   "outputs": [],
   "source": [
    "# nb\n",
    "from sklearn.naive_bayes import GaussianNB\n",
    "params_NB = {'var_smoothing': np.logspace(0,-9, num=100)}\n",
    "nb = gridsearch(GaussianNB(), params_NB, train2, test2)"
   ]
  },
  {
   "cell_type": "code",
   "execution_count": null,
   "metadata": {},
   "outputs": [],
   "source": [
    "# lr\n",
    "from sklearn.linear_model import LogisticRegression\n",
    "param_lr = {'C': [0.001, 0.01, 0.1, 1, 10, 100],\n",
    "              'penalty': ['l1', 'l2', None],\n",
    "              'solver' : ['liblinear'], \n",
    "              'fit_intercept': [True],\n",
    "              'class_weight': ['balanced']}\n",
    "lr = gridsearch(LogisticRegression(), param_lr, train2, test2)"
   ]
  }
 ],
 "metadata": {
  "kernelspec": {
   "display_name": "Python 3",
   "language": "python",
   "name": "python3"
  },
  "language_info": {
   "codemirror_mode": {
    "name": "ipython",
    "version": 3
   },
   "file_extension": ".py",
   "mimetype": "text/x-python",
   "name": "python",
   "nbconvert_exporter": "python",
   "pygments_lexer": "ipython3",
   "version": "3.8.3"
  }
 },
 "nbformat": 4,
 "nbformat_minor": 4
}
