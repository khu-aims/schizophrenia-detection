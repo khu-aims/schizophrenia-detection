{
 "cells": [
  {
   "cell_type": "code",
   "execution_count": null,
   "metadata": {
    "colab": {
     "base_uri": "https://localhost:8080/"
    },
    "id": "mZ3WEtwqJo8Y",
    "outputId": "dc680518-50dd-4a84-bfc2-f870f492cc92"
   },
   "outputs": [],
   "source": [
    "from google.colab import drive\n",
    "drive.mount('/content/drive')"
   ]
  },
  {
   "cell_type": "markdown",
   "metadata": {
    "id": "lmKXpAmigQnQ"
   },
   "source": [
    "## 0. import & def"
   ]
  },
  {
   "cell_type": "code",
   "execution_count": null,
   "metadata": {
    "colab": {
     "base_uri": "https://localhost:8080/"
    },
    "executionInfo": {
     "elapsed": 292,
     "status": "ok",
     "timestamp": 1626490603753,
     "user": {
      "displayName": "‍심미단[학생](이과대학 생물학과)",
      "photoUrl": "",
      "userId": "12713426257118517101"
     },
     "user_tz": -540
    },
    "id": "INXUpxaebdc4",
    "outputId": "f5ab7ee4-8381-4e1a-cc78-ab1a229f0aaf"
   },
   "outputs": [],
   "source": [
    "!pwd"
   ]
  },
  {
   "cell_type": "code",
   "execution_count": null,
   "metadata": {
    "id": "26xHcb_WJ_lO"
   },
   "outputs": [],
   "source": [
    "import os\n",
    "os.chdir('/content/drive/Shareddrives/2021_IJERPH/dataset')"
   ]
  },
  {
   "cell_type": "code",
   "execution_count": null,
   "metadata": {
    "id": "M1TzSjPmL9n7"
   },
   "outputs": [],
   "source": [
    "import matplotlib.pyplot as plt\n",
    "import seaborn as sns\n",
    "import numpy as np\n",
    "import scipy.stats as stats"
   ]
  },
  {
   "cell_type": "code",
   "execution_count": null,
   "metadata": {
    "id": "NR7ScBCEVu39"
   },
   "outputs": [],
   "source": [
    "def myboxplt(df, columns):\n",
    "    data = df[columns]\n",
    "    sns.boxplot(data = data, palette = \"Set2\")\n",
    "    plt.yscale('log')\n",
    "    #plt.legend(loc='upper right')\n",
    "    plt.title('plot of '+str(columns))\n",
    "    plt.ylabel('rates(log)')"
   ]
  },
  {
   "cell_type": "code",
   "execution_count": null,
   "metadata": {
    "id": "KYETXy_3XgxH"
   },
   "outputs": [],
   "source": [
    "def myplt(scz, nmh, columns, title):\n",
    "    values = [] # means \n",
    "    yerr = [] # ste\n",
    "    cols = []\n",
    "    colors = [] # [\"#FF73B8\", \"#FFFF36\"]\n",
    "    for col in columns:\n",
    "      values.append(np.mean(scz[col]))\n",
    "      values.append(np.mean(nmh[col]))\n",
    "      print(values)\n",
    "      yerr.append(stats.sem(scz[col]))\n",
    "      yerr.append(stats.sem(nmh[col]))\n",
    "      print(yerr)\n",
    "      cols.append(col + '(scz)')\n",
    "      cols.append(col + '(nmh)')\n",
    "      print(cols)\n",
    "      colors.append('#EEA990')\n",
    "      colors.append('#8CABA8')\n",
    "    plt.figure(figsize=(8,5))\n",
    "    plt.bar(x = cols, height = values,yerr=yerr, capsize=10, color = colors, alpha = 0.7)\n",
    "    plt.yticks(fontsize = 14)\n",
    "    plt.xticks(fontsize = 14)\n",
    "    #plt.ylabel('rates', fontsize = 17)\n",
    "    plt.title('Mean of '+title+' with error bar', fontsize=18)\n",
    "    plt.show"
   ]
  },
  {
   "cell_type": "code",
   "execution_count": null,
   "metadata": {
    "id": "CEMj7fIR3yZs"
   },
   "outputs": [],
   "source": [
    "def myplt2(scz, nmh, columns, title):\n",
    "    values = [] # means \n",
    "    yerr = [] # ste\n",
    "    cols = []\n",
    "    colors = [] # [\"#FF73B8\", \"#FFFF36\"]\n",
    "    for col in columns:\n",
    "      values.append(np.mean(scz[col]))\n",
    "      values.append(np.mean(nmh[col]))\n",
    "      yerr.append(stats.sem(scz[col]))\n",
    "      yerr.append(stats.sem(nmh[col]))\n",
    "      cols.append(col + '(scz)')\n",
    "      cols.append(col + '(nmh)')\n",
    "      colors.append('#EEA990')\n",
    "      colors.append('#8CABA8')\n",
    "    plt.figure(figsize=(10,5))\n",
    "    plt.bar(x = cols, height = values,yerr=yerr, capsize=10, color = colors, alpha = 0.7)\n",
    "    plt.xticks(rotation =30)\n",
    "    plt.yticks(fontsize = 11)\n",
    "    plt.xticks(fontsize = 11)\n",
    "    #plt.ylabel('rates', fontsize = 17)\n",
    "    plt.title('Mean of '+title+' with error bar', fontsize=12)\n",
    "    plt.show"
   ]
  },
  {
   "cell_type": "code",
   "execution_count": null,
   "metadata": {
    "id": "AE9XRUMucWpL"
   },
   "outputs": [],
   "source": [
    "def myplt3(scz, nmh, columns, title, bar_width = 0.3, locate = 2, figsize=(10,5)):\n",
    "  features=columns.copy()\n",
    "  for i in range(len(features)):\n",
    "    if features[i] == 'nonpers': features[i] = 'impers'\n",
    "    features[i] = features[i][0].upper() + features[i][1:]\n",
    "    print(features[i])\n",
    "  cols=['Non-schizophrenia', 'Schizophrenia']\n",
    "  pos = np.arange(bar_width, len(features)+bar_width)\n",
    "  scz_scores = []\n",
    "  nmh_scores = []\n",
    "  yerr_s = []\n",
    "  yerr_n = []\n",
    "  for col in columns:\n",
    "    scz_scores.append(np.mean(scz[col]))\n",
    "    nmh_scores.append(np.mean(nmh[col]))\n",
    "    yerr_s.append(stats.sem(scz[col]))\n",
    "    yerr_n.append(stats.sem(nmh[col]))\n",
    "  #plt.figure(dpi=300)\n",
    "  plt.rcParams[\"figure.figsize\"] = figsize\n",
    "  plt.ylabel('Mean', fontsize=16) \n",
    "  plt.bar(pos, nmh_scores, bar_width, color='#8CABA8',yerr=yerr_n)\n",
    "\n",
    "  plt.bar(pos+bar_width, scz_scores, bar_width,  color='#EEA990',  yerr=yerr_s)\n",
    "  #plt.xticks(pos, features)\n",
    "  plt.xticks(pos+bar_width/2, features, fontsize = 14)\n",
    "  plt.yticks(fontsize = 14)\n",
    "  #plt.xlabel(title, fontsize=16)\n",
    "  \n",
    "  plt.title(title ,fontsize=18)\n",
    "  plt.legend(cols, loc=locate)\n",
    "  plt.savefig(title+'.png', dpi=300)\n",
    "  plt.show()"
   ]
  },
  {
   "cell_type": "code",
   "execution_count": null,
   "metadata": {
    "colab": {
     "base_uri": "https://localhost:8080/",
     "height": 321
    },
    "executionInfo": {
     "elapsed": 1076,
     "status": "ok",
     "timestamp": 1627108075388,
     "user": {
      "displayName": "‍심미단[학생](이과대학 생물학과)",
      "photoUrl": "",
      "userId": "12713426257118517101"
     },
     "user_tz": -540
    },
    "id": "h3sW2V7-bnKj",
    "outputId": "ec8735dc-cd8a-485c-a8d8-4c0dcfea6c27"
   },
   "outputs": [],
   "source": [
    "myplt3(scz, nmh, ['WC', 'Sixltr'], 'Linguistic processes', bar_width = 0.1, figsize = (5,4), locate = 'best')"
   ]
  },
  {
   "cell_type": "code",
   "execution_count": null,
   "metadata": {
    "colab": {
     "base_uri": "https://localhost:8080/",
     "height": 336
    },
    "executionInfo": {
     "elapsed": 495,
     "status": "ok",
     "timestamp": 1627105638540,
     "user": {
      "displayName": "‍심미단[학생](이과대학 생물학과)",
      "photoUrl": "",
      "userId": "12713426257118517101"
     },
     "user_tz": -540
    },
    "id": "89xi19oKiBI1",
    "outputId": "967f4a2d-5220-444f-a11c-38ddd8274f1b"
   },
   "outputs": [],
   "source": [
    "myplt3(scz, nmh, ['Past', 'Present', 'Future'], 'Time orientations', bar_width = 0.17, figsize = (5,4), locate = 'best')"
   ]
  },
  {
   "cell_type": "code",
   "execution_count": null,
   "metadata": {
    "colab": {
     "base_uri": "https://localhost:8080/",
     "height": 510
    },
    "executionInfo": {
     "elapsed": 1519,
     "status": "ok",
     "timestamp": 1627107700716,
     "user": {
      "displayName": "‍심미단[학생](이과대학 생물학과)",
      "photoUrl": "",
      "userId": "12713426257118517101"
     },
     "user_tz": -540
    },
    "id": "vKrHiAr6gRpf",
    "outputId": "e43a2dae-2417-46d5-9fde-2d346f9f23ba"
   },
   "outputs": [],
   "source": [
    "myplt3(scz, nmh, ['Positive', 'Negative', 'anger', 'anticipation',  'fear', 'disgust','joy','sadness', 'surprise', 'trust'], 'Psychological processes', bar_width = 0.3, figsize = (12,5), locate = 'best')"
   ]
  },
  {
   "cell_type": "code",
   "execution_count": null,
   "metadata": {
    "colab": {
     "base_uri": "https://localhost:8080/",
     "height": 510
    },
    "executionInfo": {
     "elapsed": 1225,
     "status": "ok",
     "timestamp": 1627107704933,
     "user": {
      "displayName": "‍심미단[학생](이과대학 생물학과)",
      "photoUrl": "",
      "userId": "12713426257118517101"
     },
     "user_tz": -540
    },
    "id": "IWeY1QhFJnvD",
    "outputId": "b61ae142-b427-4963-c124-9618f9cc59d2"
   },
   "outputs": [],
   "source": [
    "myplt3(scz, nmh, ['Positive', 'Negative', 'anger','disgust',  'fear',  'anticipation', 'joy','sadness', 'trust' , 'surprise'], 'Psychological processes', bar_width = 0.3, figsize = (12,5), locate = 'best')"
   ]
  },
  {
   "cell_type": "code",
   "execution_count": null,
   "metadata": {
    "id": "TJqSGzGoBDOO"
   },
   "outputs": [],
   "source": [
    "scz.columns = nmh.columns = ['text', 'WC', 'Sixltr', 'PER', 'FPS', 'FPP',\n",
    "       'SPS', 'TPS', 'TPP', 'IPER', 'Past', 'Present',\n",
    "       'Future', 'Negative', 'Positive', 'anger', 'anticipation', 'disgust',\n",
    "       'fear', 'joy', 'sadness', 'surprise', 'trust', 'illness_dist_0',\n",
    "       'illness_dist_1', 'illness_dist_2', 'illness_dist_3', 'illness_dist_4',\n",
    "       'illness_dist_5', 'illness_dist_6', 'illness_dist_7', 'illness_dist_8',\n",
    "       'illness_dist_9', 'non_mh_dist_0', 'non_mh_dist_1', 'non_mh_dist_2',\n",
    "       'non_mh_dist_3', 'non_mh_dist_4', 'non_mh_dist_5', 'non_mh_dist_6',\n",
    "       'non_mh_dist_7', 'non_mh_dist_8', 'non_mh_dist_9']"
   ]
  },
  {
   "cell_type": "code",
   "execution_count": null,
   "metadata": {
    "colab": {
     "base_uri": "https://localhost:8080/",
     "height": 461
    },
    "executionInfo": {
     "elapsed": 1828,
     "status": "ok",
     "timestamp": 1627107850912,
     "user": {
      "displayName": "‍심미단[학생](이과대학 생물학과)",
      "photoUrl": "",
      "userId": "12713426257118517101"
     },
     "user_tz": -540
    },
    "id": "gKEya0CakmH8",
    "outputId": "e0f58220-ba44-4ac1-989c-f75ad80d2a2e"
   },
   "outputs": [],
   "source": [
    "myplt3(scz, nmh, ['PER', 'FPS', 'FPP','SPS', 'TPS', 'TPP', 'IPER'],'Function words', bar_width = 0.25, figsize = (12,5), locate = 'best')"
   ]
  },
  {
   "cell_type": "code",
   "execution_count": null,
   "metadata": {
    "colab": {
     "base_uri": "https://localhost:8080/",
     "height": 461
    },
    "executionInfo": {
     "elapsed": 1325,
     "status": "ok",
     "timestamp": 1627107400235,
     "user": {
      "displayName": "‍심미단[학생](이과대학 생물학과)",
      "photoUrl": "",
      "userId": "12713426257118517101"
     },
     "user_tz": -540
    },
    "id": "Iy76C_R1KDkw",
    "outputId": "42c99133-2c18-45c0-c921-881671db4881"
   },
   "outputs": [],
   "source": [
    "# ver2\n",
    "myplt3(scz, nmh, ['PER', 'FPS', 'FPP','SPS', 'TPS', 'TPP', 'IPER'],'Function words', bar_width = 0.25, figsize = (12,5), locate = 'best')"
   ]
  },
  {
   "cell_type": "code",
   "execution_count": null,
   "metadata": {
    "colab": {
     "base_uri": "https://localhost:8080/"
    },
    "executionInfo": {
     "elapsed": 305,
     "status": "ok",
     "timestamp": 1626750020627,
     "user": {
      "displayName": "‍심미단[학생](이과대학 생물학과)",
      "photoUrl": "",
      "userId": "12713426257118517101"
     },
     "user_tz": -540
    },
    "id": "HRVFS-Th21_w",
    "outputId": "ee22c594-96f4-4520-c27b-b043b5a3404e"
   },
   "outputs": [],
   "source": [
    "!pwd"
   ]
  },
  {
   "cell_type": "code",
   "execution_count": null,
   "metadata": {
    "id": "fk-0BgJd4krB"
   },
   "outputs": [],
   "source": [
    "def drawbox(scz, nmh, columns, title, log = True):\n",
    "  data1 = pd.melt(scz[columns])\n",
    "  data1 = pd.concat([data1, pd.DataFrame({'label': ['scz']*len(data1)})], axis = 1)\n",
    "  data2 = pd.melt(nmh[columns])\n",
    "  data2 = pd.concat([data2, pd.DataFrame({'label': ['nmh']*len(data2)})], axis = 1)\n",
    "  data = data1.append(data2)\n",
    "  plt.yticks(fontsize = 12)\n",
    "  plt.xticks(fontsize = 12)\n",
    "  plt.xlabel(columns, fontsize = 12)\n",
    "  plt.ylabel('value(log)', fontsize = 12)\n",
    "  fig = sns.boxplot(data = data, y = 'value', x = 'variable', hue = 'label', palette='Set2' )\n",
    "  if log: \n",
    "    fig.set_yscale(\"log\")\n",
    "    fig.set_title('Distribution of '+ title + ' with logscale')\n",
    "  else: fig.set_title('Distribution of '+ title)"
   ]
  },
  {
   "cell_type": "code",
   "execution_count": null,
   "metadata": {
    "id": "VSRkNmpi3JDk"
   },
   "outputs": [],
   "source": [
    "def drawbox2(scz, nmh, columns, title, log = True):\n",
    "  data1 = pd.melt(scz[columns])\n",
    "  data1 = pd.concat([data1, pd.DataFrame({'label': ['scz']*len(data1)})], axis = 1)\n",
    "  data2 = pd.melt(nmh[columns])\n",
    "  data2 = pd.concat([data2, pd.DataFrame({'label': ['nmh']*len(data2)})], axis = 1)\n",
    "  data = data1.append(data2)\n",
    "  plt.figure(figsize=(10,5))\n",
    "  fig = sns.boxplot(data = data, y = 'value', x = 'variable', hue = 'label', palette='Set2' )\n",
    "  if log: \n",
    "    fig.set_yscale(\"log\")\n",
    "    fig.set_title('Distribution of '+ title + ' with logscale')\n",
    "  else: fig.set_title('Distribution of '+ title)"
   ]
  },
  {
   "cell_type": "code",
   "execution_count": null,
   "metadata": {
    "id": "lECaL1oVsZHC"
   },
   "outputs": [],
   "source": [
    "def draw_violin(scz, nmh, columns, title, large = False ):\n",
    "  data1 = pd.melt(scz[columns])\n",
    "  data1 = pd.concat([data1, pd.DataFrame({'label': ['scz']*len(data1)})], axis = 1)\n",
    "  data2 = pd.melt(nmh[columns])\n",
    "  data2 = pd.concat([data2, pd.DataFrame({'label': ['nmh']*len(data2)})], axis = 1)\n",
    "  data = data1.append(data2)\n",
    "  if large: plt.figure(figsize=(10,5))\n",
    "  fig = sns.violinplot(data = data, y = 'value', x = 'variable', hue = 'label', palette='Set2' )\n",
    "  fig.set_title('Distribution of '+ title)"
   ]
  },
  {
   "cell_type": "markdown",
   "metadata": {
    "id": "v5pBvYNlMkpX"
   },
   "source": [
    "## 1. Load dataset"
   ]
  },
  {
   "cell_type": "code",
   "execution_count": null,
   "metadata": {
    "id": "yTqlVRzhKT3U"
   },
   "outputs": [],
   "source": [
    "import pandas as pd\n",
    "df = pd.read_csv('total_nmh_scz_0722ver.csv')\n",
    "#df = df.drop(['Unnamed: 0'], axis = 1)"
   ]
  },
  {
   "cell_type": "code",
   "execution_count": null,
   "metadata": {
    "colab": {
     "base_uri": "https://localhost:8080/"
    },
    "executionInfo": {
     "elapsed": 3488,
     "status": "ok",
     "timestamp": 1627103790865,
     "user": {
      "displayName": "‍심미단[학생](이과대학 생물학과)",
      "photoUrl": "",
      "userId": "12713426257118517101"
     },
     "user_tz": -540
    },
    "id": "TEQpVvy7Nkwr",
    "outputId": "b7a2ce88-787b-4d12-ba97-0f5b89a06691"
   },
   "outputs": [],
   "source": [
    "df.columns"
   ]
  },
  {
   "cell_type": "code",
   "execution_count": null,
   "metadata": {
    "id": "DFLVvTM9TOQB"
   },
   "outputs": [],
   "source": [
    "cols = ['text', 'label', 'WC',  'Sixltr', 'total pronouns', '1st singular', '1st plural', '2nd',\n",
    "       '3rd singular', '3rd plural', 'Impersonal', 'Past', 'Present', 'Future',\n",
    "       'Negative', 'Positive', 'anger', 'anticipation', 'disgust', 'fear',\n",
    "       'joy', 'sadness', 'surprise', 'trust', 'illness_dist_0',\n",
    "       'illness_dist_1', 'illness_dist_2', 'illness_dist_3', 'illness_dist_4',\n",
    "       'illness_dist_5', 'illness_dist_6', 'illness_dist_7', 'illness_dist_8',\n",
    "       'illness_dist_9', 'non_mh_dist_0', 'non_mh_dist_1', 'non_mh_dist_2',\n",
    "       'non_mh_dist_3', 'non_mh_dist_4', 'non_mh_dist_5', 'non_mh_dist_6',\n",
    "       'non_mh_dist_7', 'non_mh_dist_8', 'non_mh_dist_9']\n",
    "df.columns = cols"
   ]
  },
  {
   "cell_type": "code",
   "execution_count": null,
   "metadata": {
    "id": "U4rBlmueKqKC"
   },
   "outputs": [],
   "source": [
    "scz = df[df['label']==1].drop(['label'], axis = 1)\n",
    "nmh = df[df['label']==0].drop(['label'], axis = 1)"
   ]
  },
  {
   "cell_type": "code",
   "execution_count": null,
   "metadata": {
    "colab": {
     "base_uri": "https://localhost:8080/",
     "height": 1000
    },
    "executionInfo": {
     "elapsed": 434,
     "status": "ok",
     "timestamp": 1626925374499,
     "user": {
      "displayName": "‍심미단[학생](이과대학 생물학과)",
      "photoUrl": "",
      "userId": "12713426257118517101"
     },
     "user_tz": -540
    },
    "id": "CnxWqk0qS9-c",
    "outputId": "4e0dfec8-3c01-4c12-ce39-a5efbfbcfb92"
   },
   "outputs": [],
   "source": [
    "scz.describe().iloc[1:3].transpose()"
   ]
  },
  {
   "cell_type": "code",
   "execution_count": null,
   "metadata": {
    "colab": {
     "base_uri": "https://localhost:8080/",
     "height": 1000
    },
    "executionInfo": {
     "elapsed": 276,
     "status": "ok",
     "timestamp": 1626918717579,
     "user": {
      "displayName": "‍심미단[학생](이과대학 생물학과)",
      "photoUrl": "",
      "userId": "12713426257118517101"
     },
     "user_tz": -540
    },
    "id": "4F4TS3ZBTOGq",
    "outputId": "89cb392c-25f3-4724-fa03-4926be1b106f"
   },
   "outputs": [],
   "source": [
    "nmh.describe().iloc[1:3].transpose()"
   ]
  },
  {
   "cell_type": "code",
   "execution_count": null,
   "metadata": {
    "id": "w-ZoPjbsUCL8"
   },
   "outputs": [],
   "source": [
    "new_label = ['scz' if i==1 else 'nmh' for i in df.label]\n",
    "df['label'] = new_label"
   ]
  },
  {
   "cell_type": "markdown",
   "metadata": {
    "id": "WOwsOUNaMiAZ"
   },
   "source": [
    "## 2. for Linguistic features"
   ]
  },
  {
   "cell_type": "code",
   "execution_count": null,
   "metadata": {
    "colab": {
     "base_uri": "https://localhost:8080/",
     "height": 311
    },
    "executionInfo": {
     "elapsed": 1811,
     "status": "ok",
     "timestamp": 1622292810924,
     "user": {
      "displayName": "‍심미단[학생](이과대학 생물학과)",
      "photoUrl": "",
      "userId": "12713426257118517101"
     },
     "user_tz": -540
    },
    "id": "VrHJVpR5RNj7",
    "outputId": "ab8f2123-2ea2-4b1b-aaf6-ad0ba692d60f"
   },
   "outputs": [],
   "source": [
    "plt.title(\"Word Per Sentences \")\n",
    "sns.histplot(data=df, x=\"WPS\", hue=\"label\")"
   ]
  },
  {
   "cell_type": "code",
   "execution_count": null,
   "metadata": {
    "colab": {
     "base_uri": "https://localhost:8080/",
     "height": 311
    },
    "executionInfo": {
     "elapsed": 557,
     "status": "ok",
     "timestamp": 1622292811472,
     "user": {
      "displayName": "‍심미단[학생](이과대학 생물학과)",
      "photoUrl": "",
      "userId": "12713426257118517101"
     },
     "user_tz": -540
    },
    "id": "ISKFkEnjTzbN",
    "outputId": "db037015-08b4-4cac-abbe-04b7b6391751"
   },
   "outputs": [],
   "source": [
    "plt.title(\"Word Count \")\n",
    "sns.histplot(data=df, x=\"WC\", hue=\"label\")"
   ]
  },
  {
   "cell_type": "code",
   "execution_count": null,
   "metadata": {
    "colab": {
     "base_uri": "https://localhost:8080/",
     "height": 311
    },
    "executionInfo": {
     "elapsed": 1804,
     "status": "ok",
     "timestamp": 1622292813271,
     "user": {
      "displayName": "‍심미단[학생](이과대학 생물학과)",
      "photoUrl": "",
      "userId": "12713426257118517101"
     },
     "user_tz": -540
    },
    "id": "p201CwMZT1e-",
    "outputId": "34252c35-7681-41d3-d87b-7fd6970c3af6"
   },
   "outputs": [],
   "source": [
    "plt.title(\"Words more than 6 letters\")\n",
    "sns.histplot(data=df, x=\"Sixltr\", hue=\"label\")"
   ]
  },
  {
   "cell_type": "code",
   "execution_count": null,
   "metadata": {
    "colab": {
     "base_uri": "https://localhost:8080/",
     "height": 301
    },
    "executionInfo": {
     "elapsed": 1106,
     "status": "ok",
     "timestamp": 1622292621341,
     "user": {
      "displayName": "‍심미단[학생](이과대학 생물학과)",
      "photoUrl": "",
      "userId": "12713426257118517101"
     },
     "user_tz": -540
    },
    "id": "Y3VbZr3668Lv",
    "outputId": "b58f7b83-580d-4beb-b3c6-b0824ccfa665"
   },
   "outputs": [],
   "source": [
    "drawbox(scz, nmh, ['WPS', 'WC', 'Sixltr'], 'linguistic features')"
   ]
  },
  {
   "cell_type": "code",
   "execution_count": null,
   "metadata": {
    "colab": {
     "base_uri": "https://localhost:8080/",
     "height": 301
    },
    "executionInfo": {
     "elapsed": 448,
     "status": "ok",
     "timestamp": 1622292623163,
     "user": {
      "displayName": "‍심미단[학생](이과대학 생물학과)",
      "photoUrl": "",
      "userId": "12713426257118517101"
     },
     "user_tz": -540
    },
    "id": "o2Sv-fSAp4c2",
    "outputId": "60b4f55d-108e-4034-a27a-4da280d519da"
   },
   "outputs": [],
   "source": [
    "drawbox(scz, nmh, ['WPS', 'WC', 'Sixltr'], 'linguistic features', log = False)"
   ]
  },
  {
   "cell_type": "code",
   "execution_count": null,
   "metadata": {
    "colab": {
     "base_uri": "https://localhost:8080/",
     "height": 295
    },
    "executionInfo": {
     "elapsed": 1331,
     "status": "ok",
     "timestamp": 1622284753113,
     "user": {
      "displayName": "‍심미단[학생](이과대학 생물학과)",
      "photoUrl": "",
      "userId": "12713426257118517101"
     },
     "user_tz": -540
    },
    "id": "NZR7G6pEtHcI",
    "outputId": "e9d98a62-1933-47cc-dc2d-9ffe4ca33cbe"
   },
   "outputs": [],
   "source": [
    "draw_violin(scz, nmh, ['WPS', 'WC', 'Sixltr'], 'linguistic features')"
   ]
  },
  {
   "cell_type": "code",
   "execution_count": null,
   "metadata": {
    "colab": {
     "base_uri": "https://localhost:8080/",
     "height": 343
    },
    "executionInfo": {
     "elapsed": 420,
     "status": "ok",
     "timestamp": 1622292707709,
     "user": {
      "displayName": "‍심미단[학생](이과대학 생물학과)",
      "photoUrl": "",
      "userId": "12713426257118517101"
     },
     "user_tz": -540
    },
    "id": "LsXKUORSb_xa",
    "outputId": "121ffed1-d0b5-4b86-fc90-deaf2d06bb9c"
   },
   "outputs": [],
   "source": [
    "myplt(nmh,scz, ['WPS', 'WC', 'Sixltr'], 'linguistic features')"
   ]
  },
  {
   "cell_type": "code",
   "execution_count": null,
   "metadata": {
    "colab": {
     "base_uri": "https://localhost:8080/",
     "height": 307
    },
    "executionInfo": {
     "elapsed": 1097,
     "status": "ok",
     "timestamp": 1622204366755,
     "user": {
      "displayName": "‍심미단[학생](이과대학 생물학과)",
      "photoUrl": "",
      "userId": "12713426257118517101"
     },
     "user_tz": -540
    },
    "id": "VtVLZQWUNZmu",
    "outputId": "2b5cd128-3d13-409c-ac3b-2fc76d6247a3"
   },
   "outputs": [],
   "source": [
    "fig, axes = plt.subplots(nrows=1,ncols=3)\n",
    "plt.suptitle('Distribution of Linguistic Features (log scales)',fontsize=20)\n",
    "fig.set_size_inches(16, 4)\n",
    "plt.yscale('log')\n",
    "sns.boxplot(data = df, x = 'label', y = 'WC', ax=axes[0], palette = \"Set2\")\n",
    "plt.yscale('log')\n",
    "sns.boxplot(data = df, x = 'label', y = 'WPS', ax= axes[1], palette = \"Set2\")\n",
    "plt.yscale('log')\n",
    "sns.boxplot(data = df, x = 'label', y = 'Sixltr', ax= axes[2], palette = \"Set2\")\n",
    "plt.yscale('log')"
   ]
  },
  {
   "cell_type": "markdown",
   "metadata": {
    "id": "ohSNo8vkMxlR"
   },
   "source": [
    "## 3. for Sentimental Analysis"
   ]
  },
  {
   "cell_type": "code",
   "execution_count": null,
   "metadata": {
    "colab": {
     "base_uri": "https://localhost:8080/",
     "height": 311
    },
    "executionInfo": {
     "elapsed": 2121,
     "status": "ok",
     "timestamp": 1622292888335,
     "user": {
      "displayName": "‍심미단[학생](이과대학 생물학과)",
      "photoUrl": "",
      "userId": "12713426257118517101"
     },
     "user_tz": -540
    },
    "id": "hTuguYdpUmLE",
    "outputId": "afb79c69-30dc-4e84-c9dc-c2bcd337feb8"
   },
   "outputs": [],
   "source": [
    "plt.title(\"Positive feelings\")\n",
    "sns.histplot(data=df, x=\"positive\", hue=\"label\")"
   ]
  },
  {
   "cell_type": "code",
   "execution_count": null,
   "metadata": {
    "colab": {
     "base_uri": "https://localhost:8080/",
     "height": 311
    },
    "executionInfo": {
     "elapsed": 2066,
     "status": "ok",
     "timestamp": 1622292890394,
     "user": {
      "displayName": "‍심미단[학생](이과대학 생물학과)",
      "photoUrl": "",
      "userId": "12713426257118517101"
     },
     "user_tz": -540
    },
    "id": "nrWnMbfsUmN_",
    "outputId": "914eba88-32f5-4b16-9657-06381c19a4c4"
   },
   "outputs": [],
   "source": [
    "plt.title(\"Negative feelings\")\n",
    "sns.histplot(data=df, x=\"negative\", hue=\"label\")"
   ]
  },
  {
   "cell_type": "code",
   "execution_count": null,
   "metadata": {
    "colab": {
     "base_uri": "https://localhost:8080/",
     "height": 301
    },
    "executionInfo": {
     "elapsed": 1044,
     "status": "ok",
     "timestamp": 1622292944913,
     "user": {
      "displayName": "‍심미단[학생](이과대학 생물학과)",
      "photoUrl": "",
      "userId": "12713426257118517101"
     },
     "user_tz": -540
    },
    "id": "b2fX5bcF6o3o",
    "outputId": "2cd220ec-abb5-41c3-c81e-c1e525aeea25"
   },
   "outputs": [],
   "source": [
    "drawbox(scz, nmh, ['positive', 'negative'], 'sentimental analysis')"
   ]
  },
  {
   "cell_type": "code",
   "execution_count": null,
   "metadata": {
    "colab": {
     "base_uri": "https://localhost:8080/",
     "height": 343
    },
    "executionInfo": {
     "elapsed": 436,
     "status": "ok",
     "timestamp": 1622292948496,
     "user": {
      "displayName": "‍심미단[학생](이과대학 생물학과)",
      "photoUrl": "",
      "userId": "12713426257118517101"
     },
     "user_tz": -540
    },
    "id": "845290lJVQ8-",
    "outputId": "1ba5857e-ef0d-4c33-a007-88fed7001e72"
   },
   "outputs": [],
   "source": [
    "myplt(scz, nmh, ['positive', 'negative'], 'sentimental analysis')"
   ]
  },
  {
   "cell_type": "code",
   "execution_count": null,
   "metadata": {
    "colab": {
     "base_uri": "https://localhost:8080/",
     "height": 301
    },
    "executionInfo": {
     "elapsed": 623,
     "status": "ok",
     "timestamp": 1622292997356,
     "user": {
      "displayName": "‍심미단[학생](이과대학 생물학과)",
      "photoUrl": "",
      "userId": "12713426257118517101"
     },
     "user_tz": -540
    },
    "id": "I--epwQctaFF",
    "outputId": "eb77bbdd-4679-48f0-a6dc-de5265cb445b"
   },
   "outputs": [],
   "source": [
    "drawbox(scz, nmh, ['positive', 'negative'], 'sentimental analysis', log = False)"
   ]
  },
  {
   "cell_type": "code",
   "execution_count": null,
   "metadata": {
    "colab": {
     "base_uri": "https://localhost:8080/",
     "height": 295
    },
    "executionInfo": {
     "elapsed": 559,
     "status": "ok",
     "timestamp": 1622293000005,
     "user": {
      "displayName": "‍심미단[학생](이과대학 생물학과)",
      "photoUrl": "",
      "userId": "12713426257118517101"
     },
     "user_tz": -540
    },
    "id": "t9M6oxq8tdn9",
    "outputId": "3a2a5974-729f-4168-f520-3725b08dc365"
   },
   "outputs": [],
   "source": [
    "draw_violin(scz, nmh, ['positive', 'negative'], 'sentimental analysis')"
   ]
  },
  {
   "cell_type": "markdown",
   "metadata": {
    "id": "6qA1hZYXM3L_"
   },
   "source": [
    "## 4. Sentimental Classifications"
   ]
  },
  {
   "cell_type": "code",
   "execution_count": null,
   "metadata": {
    "colab": {
     "base_uri": "https://localhost:8080/",
     "height": 510
    },
    "executionInfo": {
     "elapsed": 2538,
     "status": "ok",
     "timestamp": 1626326674148,
     "user": {
      "displayName": "‍심미단[학생](이과대학 생물학과)",
      "photoUrl": "",
      "userId": "12713426257118517101"
     },
     "user_tz": -540
    },
    "id": "M5Y8t139bn3g",
    "outputId": "7c756327-04fe-44f7-e062-a4c3859445fe"
   },
   "outputs": [],
   "source": [
    "import seaborn as sns\n",
    "plt.title(\"Impersonal pronouns in text\")\n",
    "sns.set(rc={'figure.figsize':(10, 7)}, font_scale=2)\n",
    "sns.set_style(\"white\")\n",
    "sns.histplot(data=df, x=\"nonpers\", hue=\"label\")"
   ]
  },
  {
   "cell_type": "code",
   "execution_count": null,
   "metadata": {
    "colab": {
     "base_uri": "https://localhost:8080/",
     "height": 383
    },
    "executionInfo": {
     "elapsed": 607,
     "status": "ok",
     "timestamp": 1622293035121,
     "user": {
      "displayName": "‍심미단[학생](이과대학 생물학과)",
      "photoUrl": "",
      "userId": "12713426257118517101"
     },
     "user_tz": -540
    },
    "id": "hDRmDfm1M5o3",
    "outputId": "b3f1f02a-78cb-4cc9-9574-bd204e82680f"
   },
   "outputs": [],
   "source": [
    "myplt2(scz, nmh, ['anger', 'anticipation', 'disgust', 'fear', 'joy','sadness', 'surprise', 'trust'], 'sentimental classification')"
   ]
  },
  {
   "cell_type": "code",
   "execution_count": null,
   "metadata": {
    "colab": {
     "base_uri": "https://localhost:8080/",
     "height": 350
    },
    "executionInfo": {
     "elapsed": 1108,
     "status": "ok",
     "timestamp": 1622293055521,
     "user": {
      "displayName": "‍심미단[학생](이과대학 생물학과)",
      "photoUrl": "",
      "userId": "12713426257118517101"
     },
     "user_tz": -540
    },
    "id": "iHia_jNS4Fmd",
    "outputId": "447adc69-446e-4b6b-ce6e-a28b3cf36884"
   },
   "outputs": [],
   "source": [
    "drawbox2(scz, nmh, ['anger', 'anticipation', 'disgust', 'fear', 'joy','sadness', 'surprise', 'trust'], 'sentimental classification')"
   ]
  },
  {
   "cell_type": "code",
   "execution_count": null,
   "metadata": {
    "colab": {
     "base_uri": "https://localhost:8080/",
     "height": 350
    },
    "executionInfo": {
     "elapsed": 1193,
     "status": "ok",
     "timestamp": 1622293056710,
     "user": {
      "displayName": "‍심미단[학생](이과대학 생물학과)",
      "photoUrl": "",
      "userId": "12713426257118517101"
     },
     "user_tz": -540
    },
    "id": "Rq87ZpPgt7RH",
    "outputId": "46227bd3-4ac1-4178-a476-2968f4d921a1"
   },
   "outputs": [],
   "source": [
    "drawbox2(scz, nmh, ['anger', 'anticipation', 'disgust', 'fear', 'joy','sadness', 'surprise', 'trust'], 'sentimental classification', log = False)"
   ]
  },
  {
   "cell_type": "code",
   "execution_count": null,
   "metadata": {
    "colab": {
     "base_uri": "https://localhost:8080/",
     "height": 350
    },
    "executionInfo": {
     "elapsed": 2088,
     "status": "ok",
     "timestamp": 1622293079136,
     "user": {
      "displayName": "‍심미단[학생](이과대학 생물학과)",
      "photoUrl": "",
      "userId": "12713426257118517101"
     },
     "user_tz": -540
    },
    "id": "429hgLMpt7TT",
    "outputId": "55a1720f-5c36-4d0f-c34e-4503938d9e09"
   },
   "outputs": [],
   "source": [
    "draw_violin(scz, nmh, ['anger', 'anticipation', 'disgust', 'fear', 'joy','sadness', 'surprise', 'trust'], 'sentimental classification', True)"
   ]
  },
  {
   "cell_type": "markdown",
   "metadata": {
    "id": "9SoU1-vrUzoJ"
   },
   "source": [
    "## 5. Time analyze"
   ]
  },
  {
   "cell_type": "code",
   "execution_count": null,
   "metadata": {
    "colab": {
     "base_uri": "https://localhost:8080/",
     "height": 372
    },
    "executionInfo": {
     "elapsed": 428,
     "status": "ok",
     "timestamp": 1622293095700,
     "user": {
      "displayName": "‍심미단[학생](이과대학 생물학과)",
      "photoUrl": "",
      "userId": "12713426257118517101"
     },
     "user_tz": -540
    },
    "id": "pPnliPjHU1c4",
    "outputId": "0521dfea-f01d-40d9-88a4-9e1428e82a2a"
   },
   "outputs": [],
   "source": [
    "myplt2(scz, nmh, ['past', 'present', 'future'], 'time analysis')"
   ]
  },
  {
   "cell_type": "code",
   "execution_count": null,
   "metadata": {
    "colab": {
     "base_uri": "https://localhost:8080/",
     "height": 301
    },
    "executionInfo": {
     "elapsed": 1577,
     "status": "ok",
     "timestamp": 1622293128455,
     "user": {
      "displayName": "‍심미단[학생](이과대학 생물학과)",
      "photoUrl": "",
      "userId": "12713426257118517101"
     },
     "user_tz": -540
    },
    "id": "EBcKy7gk7gDw",
    "outputId": "0172cab6-9c17-4e51-d29a-1a96003ec65f"
   },
   "outputs": [],
   "source": [
    "drawbox(scz, nmh, ['past', 'present', 'future'], 'time analysis')"
   ]
  },
  {
   "cell_type": "code",
   "execution_count": null,
   "metadata": {
    "colab": {
     "base_uri": "https://localhost:8080/",
     "height": 301
    },
    "executionInfo": {
     "elapsed": 9,
     "status": "ok",
     "timestamp": 1622293128456,
     "user": {
      "displayName": "‍심미단[학생](이과대학 생물학과)",
      "photoUrl": "",
      "userId": "12713426257118517101"
     },
     "user_tz": -540
    },
    "id": "YS-aP0Tv3lgz",
    "outputId": "3c7e0ac1-dd46-4f25-f6a5-9a0a9ef13607"
   },
   "outputs": [],
   "source": [
    "drawbox(scz, nmh, ['past', 'present', 'future'], 'time analysis', False)"
   ]
  },
  {
   "cell_type": "code",
   "execution_count": null,
   "metadata": {
    "colab": {
     "base_uri": "https://localhost:8080/",
     "height": 295
    },
    "executionInfo": {
     "elapsed": 1116,
     "status": "ok",
     "timestamp": 1622293220268,
     "user": {
      "displayName": "‍심미단[학생](이과대학 생물학과)",
      "photoUrl": "",
      "userId": "12713426257118517101"
     },
     "user_tz": -540
    },
    "id": "iw0VgcJI3sa4",
    "outputId": "cbdb32d1-b789-4926-9f04-d2bc7bd48583"
   },
   "outputs": [],
   "source": [
    "draw_violin(scz, nmh, ['past', 'present', 'future'], 'time analysis')"
   ]
  },
  {
   "cell_type": "markdown",
   "metadata": {
    "id": "Ufn5BDFUU15D"
   },
   "source": [
    "## 6. Pronouns analyze"
   ]
  },
  {
   "cell_type": "code",
   "execution_count": null,
   "metadata": {
    "colab": {
     "base_uri": "https://localhost:8080/",
     "height": 350
    },
    "executionInfo": {
     "elapsed": 1145,
     "status": "ok",
     "timestamp": 1622293241251,
     "user": {
      "displayName": "‍심미단[학생](이과대학 생물학과)",
      "photoUrl": "",
      "userId": "12713426257118517101"
     },
     "user_tz": -540
    },
    "id": "iW_biPyOU3vE",
    "outputId": "26506285-f6a9-4270-9ed7-5b41585beafb"
   },
   "outputs": [],
   "source": [
    "drawbox2(scz, nmh,['1pers', '2pers', '3pers', 'nonpers'], 'pronouns analysis')"
   ]
  },
  {
   "cell_type": "code",
   "execution_count": null,
   "metadata": {
    "colab": {
     "base_uri": "https://localhost:8080/",
     "height": 350
    },
    "executionInfo": {
     "elapsed": 769,
     "status": "ok",
     "timestamp": 1622293259751,
     "user": {
      "displayName": "‍심미단[학생](이과대학 생물학과)",
      "photoUrl": "",
      "userId": "12713426257118517101"
     },
     "user_tz": -540
    },
    "id": "oH0eLGzltEoE",
    "outputId": "2d3c1dcb-27e2-47f7-a662-2d1fee9c2116"
   },
   "outputs": [],
   "source": [
    "drawbox2(scz, nmh,['1pers', '2pers', '3pers', 'nonpers'], 'pronouns analysis', False)"
   ]
  },
  {
   "cell_type": "code",
   "execution_count": null,
   "metadata": {
    "colab": {
     "base_uri": "https://localhost:8080/",
     "height": 373
    },
    "executionInfo": {
     "elapsed": 455,
     "status": "ok",
     "timestamp": 1622293302957,
     "user": {
      "displayName": "‍심미단[학생](이과대학 생물학과)",
      "photoUrl": "",
      "userId": "12713426257118517101"
     },
     "user_tz": -540
    },
    "id": "0QC6wYaJ4Rhw",
    "outputId": "488429de-6762-4c93-9e83-a0ad5b957cf1"
   },
   "outputs": [],
   "source": [
    "myplt2(scz, nmh, ['1pers', '2pers', '3pers', 'nonpers'], 'pronouns analysis')"
   ]
  },
  {
   "cell_type": "code",
   "execution_count": null,
   "metadata": {
    "colab": {
     "base_uri": "https://localhost:8080/",
     "height": 350
    },
    "executionInfo": {
     "elapsed": 1412,
     "status": "ok",
     "timestamp": 1622293349407,
     "user": {
      "displayName": "‍심미단[학생](이과대학 생물학과)",
      "photoUrl": "",
      "userId": "12713426257118517101"
     },
     "user_tz": -540
    },
    "id": "xrD9HRSt4-Fu",
    "outputId": "64b0a8b1-1bd0-4a79-cd09-ca9ce73d4035"
   },
   "outputs": [],
   "source": [
    "draw_violin(scz, nmh,['1pers', '2pers', '3pers', 'nonpers'], 'pronouns analysis', True)"
   ]
  },
  {
   "cell_type": "markdown",
   "metadata": {
    "id": "7iB8xupLdN8J"
   },
   "source": [
    "## 7. Statistical Analysis"
   ]
  },
  {
   "cell_type": "code",
   "execution_count": null,
   "metadata": {
    "colab": {
     "base_uri": "https://localhost:8080/"
    },
    "executionInfo": {
     "elapsed": 31,
     "status": "ok",
     "timestamp": 1622022619200,
     "user": {
      "displayName": "‍심미단[학생](이과대학 생물학과)",
      "photoUrl": "",
      "userId": "12713426257118517101"
     },
     "user_tz": -540
    },
    "id": "zSAmn7IYdeEW",
    "outputId": "23b48305-90ab-4a37-f19c-7d036823de63"
   },
   "outputs": [],
   "source": [
    "print(len(nmh), len(scz))"
   ]
  },
  {
   "cell_type": "markdown",
   "metadata": {
    "id": "MW_1-4pntITO"
   },
   "source": [
    "### 1) t test"
   ]
  },
  {
   "cell_type": "code",
   "execution_count": null,
   "metadata": {
    "id": "VhIoGsmrdSqs"
   },
   "outputs": [],
   "source": [
    "import scipy.stats\n",
    "def ttest(columns, alpha = 0.01):\n",
    "  stats, p = [],[]\n",
    "  result = []\n",
    "  for col in columns:\n",
    "    temp = scipy.stats.ttest_ind(nmh[col], scz[col], equal_var=False)\n",
    "    stats.append(temp[0])\n",
    "    p.append(temp[1])\n",
    "    result.append('accept Ho' if temp[1]>=alpha else 'reject Ho')\n",
    "  result = pd.DataFrame({'statistics': stats, 'p-value':p, 'result': result})\n",
    "  result.index = columns\n",
    "  return result"
   ]
  },
  {
   "cell_type": "code",
   "execution_count": null,
   "metadata": {
    "colab": {
     "base_uri": "https://localhost:8080/",
     "height": 133
    },
    "executionInfo": {
     "elapsed": 7,
     "status": "ok",
     "timestamp": 1622293378703,
     "user": {
      "displayName": "‍심미단[학생](이과대학 생물학과)",
      "photoUrl": "",
      "userId": "12713426257118517101"
     },
     "user_tz": -540
    },
    "id": "Jz_ZyKcaeh3L",
    "outputId": "c704f483-6938-4faf-d8d4-cfe7129fac03"
   },
   "outputs": [],
   "source": [
    "ttest(['WPS', 'WC', 'Sixltr'])"
   ]
  },
  {
   "cell_type": "code",
   "execution_count": null,
   "metadata": {
    "colab": {
     "base_uri": "https://localhost:8080/",
     "height": 105
    },
    "executionInfo": {
     "elapsed": 697,
     "status": "ok",
     "timestamp": 1622293402554,
     "user": {
      "displayName": "‍심미단[학생](이과대학 생물학과)",
      "photoUrl": "",
      "userId": "12713426257118517101"
     },
     "user_tz": -540
    },
    "id": "PzRM6QMrfYdM",
    "outputId": "e4ddc478-1a5a-4b42-b837-f0cf836180e9"
   },
   "outputs": [],
   "source": [
    "ttest(['positive','negative'])"
   ]
  },
  {
   "cell_type": "code",
   "execution_count": null,
   "metadata": {
    "colab": {
     "base_uri": "https://localhost:8080/",
     "height": 277
    },
    "executionInfo": {
     "elapsed": 10,
     "status": "ok",
     "timestamp": 1622293402555,
     "user": {
      "displayName": "‍심미단[학생](이과대학 생물학과)",
      "photoUrl": "",
      "userId": "12713426257118517101"
     },
     "user_tz": -540
    },
    "id": "PgHRaGhbcBbS",
    "outputId": "b5063066-a3d4-4b51-b1f3-0fd444192594"
   },
   "outputs": [],
   "source": [
    "ttest(['anger', 'anticipation', 'disgust', 'fear', 'joy','sadness', 'surprise', 'trust'])"
   ]
  },
  {
   "cell_type": "code",
   "execution_count": null,
   "metadata": {
    "colab": {
     "base_uri": "https://localhost:8080/",
     "height": 133
    },
    "executionInfo": {
     "elapsed": 9,
     "status": "ok",
     "timestamp": 1622293402555,
     "user": {
      "displayName": "‍심미단[학생](이과대학 생물학과)",
      "photoUrl": "",
      "userId": "12713426257118517101"
     },
     "user_tz": -540
    },
    "id": "O0-kgJtccDox",
    "outputId": "4a4abfe2-72e7-4cb9-a8b3-24add4e19b86"
   },
   "outputs": [],
   "source": [
    "ttest(['past', 'present', 'future'])"
   ]
  },
  {
   "cell_type": "code",
   "execution_count": null,
   "metadata": {
    "colab": {
     "base_uri": "https://localhost:8080/",
     "height": 162
    },
    "executionInfo": {
     "elapsed": 10,
     "status": "ok",
     "timestamp": 1622293402937,
     "user": {
      "displayName": "‍심미단[학생](이과대학 생물학과)",
      "photoUrl": "",
      "userId": "12713426257118517101"
     },
     "user_tz": -540
    },
    "id": "rXJzap2tb9bf",
    "outputId": "fbff0bb8-8677-482b-a7e3-6db865744aad"
   },
   "outputs": [],
   "source": [
    "ttest(['1pers', '2pers', '3pers', 'nonpers'])"
   ]
  },
  {
   "cell_type": "code",
   "execution_count": null,
   "metadata": {
    "colab": {
     "base_uri": "https://localhost:8080/",
     "height": 335
    },
    "executionInfo": {
     "elapsed": 9,
     "status": "ok",
     "timestamp": 1622293402938,
     "user": {
      "displayName": "‍심미단[학생](이과대학 생물학과)",
      "photoUrl": "",
      "userId": "12713426257118517101"
     },
     "user_tz": -540
    },
    "id": "COtnpnFkcA1D",
    "outputId": "08f44edc-0a03-446e-e7d1-9a4a68cc432b"
   },
   "outputs": [],
   "source": [
    "ttest(['Comma', 'Colon', 'SemiC', 'QMark', 'Exclam', 'Dash', 'Quote','Apostro', 'Parenth', 'OtherP'])"
   ]
  },
  {
   "cell_type": "code",
   "execution_count": null,
   "metadata": {
    "id": "ST9Va7-ucTNm"
   },
   "outputs": [],
   "source": []
  },
  {
   "cell_type": "markdown",
   "metadata": {
    "id": "mj7GqMR2tM3L"
   },
   "source": [
    "### 2) t-test with bonferroni"
   ]
  },
  {
   "cell_type": "code",
   "execution_count": null,
   "metadata": {
    "colab": {
     "base_uri": "https://localhost:8080/"
    },
    "executionInfo": {
     "elapsed": 19,
     "status": "ok",
     "timestamp": 1622293403897,
     "user": {
      "displayName": "‍심미단[학생](이과대학 생물학과)",
      "photoUrl": "",
      "userId": "12713426257118517101"
     },
     "user_tz": -540
    },
    "id": "hPKmlYmStccL",
    "outputId": "9a02869a-9fdb-4acd-93f3-118ee0cdb62d"
   },
   "outputs": [],
   "source": [
    "df.columns"
   ]
  },
  {
   "cell_type": "code",
   "execution_count": null,
   "metadata": {
    "colab": {
     "base_uri": "https://localhost:8080/"
    },
    "executionInfo": {
     "elapsed": 15,
     "status": "ok",
     "timestamp": 1622293403898,
     "user": {
      "displayName": "‍심미단[학생](이과대학 생물학과)",
      "photoUrl": "",
      "userId": "12713426257118517101"
     },
     "user_tz": -540
    },
    "id": "KEla7aXZteiJ",
    "outputId": "49ae74ec-081f-45e0-aee0-f4883044c42f"
   },
   "outputs": [],
   "source": [
    "features = ['WPS', 'WC','Sixltr', 'anger', 'anticipation', 'disgust', 'fear', 'joy',\n",
    "       'negative', 'positive', 'sadness', 'surprise', 'trust', '1pers', '2pers', '3pers', 'nonpers',\n",
    "       'past', 'present', 'future']\n",
    "len(features)"
   ]
  },
  {
   "cell_type": "code",
   "execution_count": null,
   "metadata": {
    "id": "T1dHDqWRtP32"
   },
   "outputs": [],
   "source": [
    "import scipy.stats\n",
    "def ttest_bonf(columns, alpha = 0.01):\n",
    "  stats, p = [],[]\n",
    "  result = []\n",
    "  for col in columns:\n",
    "    temp = scipy.stats.ttest_ind(nmh[col], scz[col], equal_var=False)\n",
    "    stats.append(temp[0])\n",
    "    p.append(temp[1])\n",
    "    result.append('accept Ho' if temp[1]>=alpha/20 else 'reject Ho')\n",
    "  result = pd.DataFrame({'statistics': stats, 'p-value':p, 'result': result})\n",
    "  result.index = columns\n",
    "  return result"
   ]
  },
  {
   "cell_type": "code",
   "execution_count": null,
   "metadata": {
    "colab": {
     "base_uri": "https://localhost:8080/",
     "height": 133
    },
    "executionInfo": {
     "elapsed": 12,
     "status": "ok",
     "timestamp": 1622293403899,
     "user": {
      "displayName": "‍심미단[학생](이과대학 생물학과)",
      "photoUrl": "",
      "userId": "12713426257118517101"
     },
     "user_tz": -540
    },
    "id": "Pw9M9YPDtvkX",
    "outputId": "2ea085d8-3f17-4882-ae3b-c59658f74bcf"
   },
   "outputs": [],
   "source": [
    "ttest_bonf(['WPS', 'WC', 'Sixltr'])"
   ]
  },
  {
   "cell_type": "code",
   "execution_count": null,
   "metadata": {
    "colab": {
     "base_uri": "https://localhost:8080/",
     "height": 105
    },
    "executionInfo": {
     "elapsed": 431,
     "status": "ok",
     "timestamp": 1622293404319,
     "user": {
      "displayName": "‍심미단[학생](이과대학 생물학과)",
      "photoUrl": "",
      "userId": "12713426257118517101"
     },
     "user_tz": -540
    },
    "id": "cD77Pbivtzgw",
    "outputId": "a3bb6d11-9473-4bcc-f6c4-c480db5683b9"
   },
   "outputs": [],
   "source": [
    "ttest_bonf(['positive', 'negative'])"
   ]
  },
  {
   "cell_type": "code",
   "execution_count": null,
   "metadata": {
    "colab": {
     "base_uri": "https://localhost:8080/",
     "height": 277
    },
    "executionInfo": {
     "elapsed": 12,
     "status": "ok",
     "timestamp": 1622293404319,
     "user": {
      "displayName": "‍심미단[학생](이과대학 생물학과)",
      "photoUrl": "",
      "userId": "12713426257118517101"
     },
     "user_tz": -540
    },
    "id": "D5uCT3xFt2tZ",
    "outputId": "cb1e8373-2145-4929-cddb-25f2d3f54e17"
   },
   "outputs": [],
   "source": [
    "ttest_bonf(['anger', 'anticipation', 'disgust', 'fear', 'joy','sadness', 'surprise', 'trust'])"
   ]
  },
  {
   "cell_type": "code",
   "execution_count": null,
   "metadata": {
    "colab": {
     "base_uri": "https://localhost:8080/",
     "height": 162
    },
    "executionInfo": {
     "elapsed": 12,
     "status": "ok",
     "timestamp": 1622293404320,
     "user": {
      "displayName": "‍심미단[학생](이과대학 생물학과)",
      "photoUrl": "",
      "userId": "12713426257118517101"
     },
     "user_tz": -540
    },
    "id": "8G5KESXWt7xb",
    "outputId": "bebcbf5f-9907-4806-b778-fd568e303648"
   },
   "outputs": [],
   "source": [
    "ttest_bonf(['i', '2pers', '3pers', 'nonpers'])"
   ]
  },
  {
   "cell_type": "code",
   "execution_count": null,
   "metadata": {
    "colab": {
     "base_uri": "https://localhost:8080/",
     "height": 133
    },
    "executionInfo": {
     "elapsed": 12,
     "status": "ok",
     "timestamp": 1622293404321,
     "user": {
      "displayName": "‍심미단[학생](이과대학 생물학과)",
      "photoUrl": "",
      "userId": "12713426257118517101"
     },
     "user_tz": -540
    },
    "id": "rQkDin3-uAGY",
    "outputId": "2805cb15-a019-4340-a97e-ad4456589672"
   },
   "outputs": [],
   "source": [
    "ttest_bonf(['past', 'present', 'future'])"
   ]
  },
  {
   "cell_type": "code",
   "execution_count": null,
   "metadata": {
    "id": "rxbjJXjwuDQF"
   },
   "outputs": [],
   "source": []
  },
  {
   "cell_type": "markdown",
   "metadata": {
    "id": "RJSQmzyBC8t9"
   },
   "source": [
    "# table for mean & std"
   ]
  },
  {
   "cell_type": "code",
   "execution_count": null,
   "metadata": {
    "id": "khIS26cWDCod"
   },
   "outputs": [],
   "source": [
    "values.append(np.mean(scz[col]))\n",
    "      values.append(np.mean(nmh[col]))\n",
    "      print(values)\n",
    "      yerr.append(stats.sem(scz[col]))\n",
    "      yerr.append(stats.sem(nmh[col]))"
   ]
  },
  {
   "cell_type": "code",
   "execution_count": null,
   "metadata": {
    "colab": {
     "base_uri": "https://localhost:8080/"
    },
    "executionInfo": {
     "elapsed": 267,
     "status": "ok",
     "timestamp": 1626501613875,
     "user": {
      "displayName": "‍심미단[학생](이과대학 생물학과)",
      "photoUrl": "",
      "userId": "12713426257118517101"
     },
     "user_tz": -540
    },
    "id": "DmzUWi0ZDPk_",
    "outputId": "957f52cd-ba8e-4a17-c176-1631680bae63"
   },
   "outputs": [],
   "source": [
    "nmh.columns"
   ]
  },
  {
   "cell_type": "code",
   "execution_count": null,
   "metadata": {
    "id": "dvuLwhF8C_Ke"
   },
   "outputs": [],
   "source": [
    "s_mean = []\n",
    "n_mean = []\n",
    "s_std = []\n",
    "n_std = []\n",
    "columns = ['WPS', 'WC', 'Sixltr', 'anger', 'anticipation', 'disgust', 'fear', 'joy', 'negative', 'positive', 'sadness', 'surprise', 'trust', \n",
    "           '1pers', '2pers', '3pers', 'nonpers', 'past', 'present', 'future']\n",
    "\n",
    "for col in columns:\n",
    "  s_mean.append(np.mean(scz[col]))\n",
    "  n_mean.append(np.mean(nmh[col]))\n",
    "  s_std.append(stats.sem(scz[col]))\n",
    "  n_std.append(stats.sem(nmh[col]))\n",
    "\n"
   ]
  },
  {
   "cell_type": "code",
   "execution_count": null,
   "metadata": {
    "colab": {
     "base_uri": "https://localhost:8080/",
     "height": 297
    },
    "executionInfo": {
     "elapsed": 257,
     "status": "error",
     "timestamp": 1626501786094,
     "user": {
      "displayName": "‍심미단[학생](이과대학 생물학과)",
      "photoUrl": "",
      "userId": "12713426257118517101"
     },
     "user_tz": -540
    },
    "id": "Ees6G7uvDAl7",
    "outputId": "764fbc3c-af7a-4b75-b396-a995845ef588"
   },
   "outputs": [],
   "source": [
    "result = pd.DataFrame(s_mean, n_mean, s_std, n_std)"
   ]
  },
  {
   "cell_type": "code",
   "execution_count": null,
   "metadata": {
    "colab": {
     "base_uri": "https://localhost:8080/",
     "height": 653
    },
    "executionInfo": {
     "elapsed": 249,
     "status": "ok",
     "timestamp": 1626502146069,
     "user": {
      "displayName": "‍심미단[학생](이과대학 생물학과)",
      "photoUrl": "",
      "userId": "12713426257118517101"
     },
     "user_tz": -540
    },
    "id": "tFGlEcwcD6dD",
    "outputId": "1f546d55-9e0e-4982-e7de-92e44d57fb40"
   },
   "outputs": [],
   "source": [
    "df1 = pd.DataFrame(n_mean, index = columns, columns = ['nmh_mean'])\n",
    "df1"
   ]
  },
  {
   "cell_type": "code",
   "execution_count": null,
   "metadata": {
    "id": "9P4B9RryD-69"
   },
   "outputs": [],
   "source": [
    "df2 = pd.DataFrame(s_mean, index = columns, columns = ['scz_mean'])\n",
    "df3 = pd.DataFrame(n_std, index = columns, columns = ['nmh_std'])\n",
    "df4 = pd.DataFrame(s_std, index = columns, columns = ['scz_std'])"
   ]
  },
  {
   "cell_type": "code",
   "execution_count": null,
   "metadata": {
    "colab": {
     "base_uri": "https://localhost:8080/",
     "height": 653
    },
    "executionInfo": {
     "elapsed": 256,
     "status": "ok",
     "timestamp": 1626502199248,
     "user": {
      "displayName": "‍심미단[학생](이과대학 생물학과)",
      "photoUrl": "",
      "userId": "12713426257118517101"
     },
     "user_tz": -540
    },
    "id": "ZYyki8fZEN3m",
    "outputId": "f85d68e0-844a-41ed-bddb-32515ca8e7ea"
   },
   "outputs": [],
   "source": [
    "pd.concat([df1, df2, df3, df4], axis = 1)"
   ]
  },
  {
   "cell_type": "code",
   "execution_count": null,
   "metadata": {
    "id": "WOVd2qDBmA9v"
   },
   "outputs": [],
   "source": []
  },
  {
   "cell_type": "code",
   "execution_count": null,
   "metadata": {
    "id": "w26XvP-HFdyu"
   },
   "outputs": [],
   "source": [
    "pd.concat([df1, df2, df3, df4], axis = 1).to_csv('statistics.csv')"
   ]
  },
  {
   "cell_type": "code",
   "execution_count": null,
   "metadata": {
    "colab": {
     "base_uri": "https://localhost:8080/"
    },
    "executionInfo": {
     "elapsed": 828,
     "status": "ok",
     "timestamp": 1626740791720,
     "user": {
      "displayName": "‍심미단[학생](이과대학 생물학과)",
      "photoUrl": "",
      "userId": "12713426257118517101"
     },
     "user_tz": -540
    },
    "id": "L_H6OS9kFjb2",
    "outputId": "75cf3066-3f11-4fe6-e192-e7726f7ed656"
   },
   "outputs": [],
   "source": [
    "!pwd"
   ]
  },
  {
   "cell_type": "code",
   "execution_count": null,
   "metadata": {
    "id": "8-hG42QhF9yy"
   },
   "outputs": [],
   "source": []
  },
  {
   "cell_type": "markdown",
   "metadata": {
    "id": "I3spwsMxlxD0"
   },
   "source": [
    "# MWU"
   ]
  },
  {
   "cell_type": "code",
   "execution_count": null,
   "metadata": {
    "id": "RHE1JeR1l5X7"
   },
   "outputs": [],
   "source": [
    "cols= ['WPS', 'WC', 'Sixltr', 'anger', 'anticipation', 'disgust', 'fear', 'joy', 'negative', 'positive', 'sadness', 'surprise', 'trust', \n",
    "           '1pers', '2pers', '3pers', 'nonpers', 'past', 'present', 'future']"
   ]
  },
  {
   "cell_type": "code",
   "execution_count": null,
   "metadata": {
    "colab": {
     "base_uri": "https://localhost:8080/"
    },
    "executionInfo": {
     "elapsed": 350,
     "status": "ok",
     "timestamp": 1626879863820,
     "user": {
      "displayName": "‍심미단[학생](이과대학 생물학과)",
      "photoUrl": "",
      "userId": "12713426257118517101"
     },
     "user_tz": -540
    },
    "id": "4Ej0hV_XlzR9",
    "outputId": "01d020f5-cb89-4958-df93-3dade4da79e6"
   },
   "outputs": [],
   "source": [
    "for col in cols:\n",
    "    print(\"=====================\",col, \"=====================\")\n",
    "    print(stats.shapiro(scz[col]))\n",
    "    print(stats.shapiro(nmh[col]))"
   ]
  },
  {
   "cell_type": "code",
   "execution_count": null,
   "metadata": {
    "colab": {
     "base_uri": "https://localhost:8080/"
    },
    "executionInfo": {
     "elapsed": 228,
     "status": "ok",
     "timestamp": 1626880098743,
     "user": {
      "displayName": "‍심미단[학생](이과대학 생물학과)",
      "photoUrl": "",
      "userId": "12713426257118517101"
     },
     "user_tz": -540
    },
    "id": "Fm69MRosnCwI",
    "outputId": "d21a3633-f8b2-466a-e2f2-9775d99e8864"
   },
   "outputs": [],
   "source": [
    "tTesttTest[1]"
   ]
  },
  {
   "cell_type": "code",
   "execution_count": null,
   "metadata": {
    "colab": {
     "base_uri": "https://localhost:8080/"
    },
    "executionInfo": {
     "elapsed": 1151,
     "status": "ok",
     "timestamp": 1626880138081,
     "user": {
      "displayName": "‍심미단[학생](이과대학 생물학과)",
      "photoUrl": "",
      "userId": "12713426257118517101"
     },
     "user_tz": -540
    },
    "id": "qXKc36JsmHxg",
    "outputId": "3eae3e0d-f337-4489-8261-bddd740fcfdb"
   },
   "outputs": [],
   "source": [
    "from scipy.stats import mannwhitneyu\n",
    "for col in cols:\n",
    "    print(\"=====================\",col, \"=====================\")\n",
    "    tTesttTest = mannwhitneyu(scz[col], nmh[col])\n",
    "    #tTestResultDiffVar = stats.ttest_ind(schizo_dataset[topic], non_schizo_dataset[topic], equal_var=False)\n",
    "    print(tTesttTest)\n",
    "    if tTesttTest[1]>0.01: print('accept')\n",
    "    else: print('reject')\n",
    "    #print(tTestResultDiffVar)\n",
    "print(\"\\n\")\n",
    "print(\"\\n\")\n",
    "print(\"\\n\")\n",
    "    \n",
    "for col in cols:\n",
    "    print(\"=====================\",col, \"=====================\")\n",
    "    tTesttTest = mannwhitneyu(nmh[col], scz[col])\n",
    "    #tTestResultDiffVar = stats.ttest_ind(schizo_dataset[topic], non_schizo_dataset[topic], equal_var=False)\n",
    "    print(tTesttTest)\n",
    "    if tTesttTest[1]>0.01: print('accept')\n",
    "    else: print('reject')\n",
    "    #print(tTestResultDiffVar)"
   ]
  },
  {
   "cell_type": "code",
   "execution_count": null,
   "metadata": {
    "id": "eNzk7DkOmzPh"
   },
   "outputs": [],
   "source": []
  }
 ],
 "metadata": {
  "colab": {
   "authorship_tag": "ABX9TyO4ZfH79ufZ33u6cr7VUPJu",
   "collapsed_sections": [
    "lmKXpAmigQnQ"
   ],
   "name": "Analyze_LIWC.ipynb",
   "provenance": []
  },
  "kernelspec": {
   "display_name": "Python 3",
   "language": "python",
   "name": "python3"
  },
  "language_info": {
   "codemirror_mode": {
    "name": "ipython",
    "version": 3
   },
   "file_extension": ".py",
   "mimetype": "text/x-python",
   "name": "python",
   "nbconvert_exporter": "python",
   "pygments_lexer": "ipython3",
   "version": "3.8.3"
  }
 },
 "nbformat": 4,
 "nbformat_minor": 1
}
